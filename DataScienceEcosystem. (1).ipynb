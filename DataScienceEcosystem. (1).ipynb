{
 "cells": [
  {
   "cell_type": "markdown",
   "id": "be2df7d0",
   "metadata": {},
   "source": [
    "<H1>Data Science Tools and Ecosystem"
   ]
  },
  {
   "cell_type": "markdown",
   "id": "9215da22",
   "metadata": {},
   "source": [
    "In this notebook, Data Science Tools and Ecosystem are summarized."
   ]
  },
  {
   "cell_type": "markdown",
   "id": "e72e34a0",
   "metadata": {},
   "source": [
    "**Objectives:**\n",
    "\n",
    "- List popular languages for Data Science.\n",
    "- Explain the importance of data visualization in analysis.\n",
    "- Introduce basic statistical concepts for data analysis.\n",
    "- Demonstrate how to clean and preprocess data for analysis.\n",
    "- Showcase common machine learning algorithms used in Data Science.\n"
   ]
  },
  {
   "cell_type": "markdown",
   "id": "0b9dae5a",
   "metadata": {},
   "source": [
    "Some of the popular languages that Data Scientists use are:\n",
    "    1.Python 2.R 3.Julia \n",
    "    "
   ]
  },
  {
   "cell_type": "markdown",
   "id": "78894a74",
   "metadata": {},
   "source": [
    "Some of the commonly used libraries used by Data Scientists include: 1.Pandas 2.Matplotlib 3.Seaborn"
   ]
  },
  {
   "cell_type": "markdown",
   "id": "ea286dbb",
   "metadata": {},
   "source": [
    "| Data Science Tools    |\n",
    "|-----------------------|\n",
    "| Jupyter Notebook      |\n",
    "| RStudio               |\n",
    "| Spyder                |\n"
   ]
  },
  {
   "cell_type": "markdown",
   "id": "0294095e",
   "metadata": {},
   "source": [
    "<H3>Below are a few examples of evaluating arithmetic expressions in Python"
   ]
  },
  {
   "cell_type": "code",
   "execution_count": 2,
   "id": "32025757",
   "metadata": {},
   "outputs": [
    {
     "data": {
      "text/plain": [
       "17"
      ]
     },
     "execution_count": 2,
     "metadata": {},
     "output_type": "execute_result"
    }
   ],
   "source": [
    "(3*4)+5 #This a simple arithmetic expression to mutiply then add integers."
   ]
  },
  {
   "cell_type": "code",
   "execution_count": 1,
   "id": "f073d004",
   "metadata": {},
   "outputs": [
    {
     "data": {
      "text/plain": [
       "3.3333333333333335"
      ]
     },
     "execution_count": 1,
     "metadata": {},
     "output_type": "execute_result"
    }
   ],
   "source": [
    "# This will convert 200 minutes to hours by dividing by 60.\n",
    "200 / 60\n"
   ]
  },
  {
   "cell_type": "markdown",
   "id": "61037e7c",
   "metadata": {},
   "source": [
    "<H2>Author Details<H2>"
   ]
  },
  {
   "cell_type": "markdown",
   "id": "2b3a2560",
   "metadata": {},
   "source": [
    "Pratheeksha"
   ]
  },
  {
   "cell_type": "code",
   "execution_count": null,
   "id": "a3db1691",
   "metadata": {},
   "outputs": [],
   "source": []
  }
 ],
 "metadata": {
  "kernelspec": {
   "display_name": "Python 3 (ipykernel)",
   "language": "python",
   "name": "python3"
  },
  "language_info": {
   "codemirror_mode": {
    "name": "ipython",
    "version": 3
   },
   "file_extension": ".py",
   "mimetype": "text/x-python",
   "name": "python",
   "nbconvert_exporter": "python",
   "pygments_lexer": "ipython3",
   "version": "3.11.5"
  }
 },
 "nbformat": 4,
 "nbformat_minor": 5
}
